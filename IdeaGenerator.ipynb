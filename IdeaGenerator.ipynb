{
  "nbformat": 4,
  "nbformat_minor": 0,
  "metadata": {
    "colab": {
      "name": "Creativity.ipynb",
      "provenance": [],
      "collapsed_sections": [],
      "authorship_tag": "ABX9TyMgSGuh7i6Tc5OP3r9sLBe3",
      "include_colab_link": true
    },
    "kernelspec": {
      "display_name": "Python 3",
      "name": "python3"
    }
  },
  "cells": [
    {
      "cell_type": "markdown",
      "metadata": {
        "id": "view-in-github",
        "colab_type": "text"
      },
      "source": [
        "<a href=\"https://colab.research.google.com/github/paulodowd/IdeaGeneratorWorkshop/blob/main/IdeaGenerator.ipynb\" target=\"_parent\"><img src=\"https://colab.research.google.com/assets/colab-badge.svg\" alt=\"Open In Colab\"/></a>"
      ]
    },
    {
      "cell_type": "markdown",
      "source": [
        "# Creativity: Idea Generation Workshop\n",
        "\n",
        "In this worksheet we will complete some exercises to help us to generate ideas.  This worksheet has active code cells so it is necessary to view it in Google Colab.\n",
        "\n",
        "If you have watched the videos discussing artificial creativity, you will know that the question _\"where do ideas come from?\"_ is quite tricky to answer. Often, our best ideas will come to us when we are **not** directly thinking about them.  So how can we think of new ideas?\n",
        "\n",
        "In these exercises, we will complete activities to help our minds to build new (novel) associations and to move itself into areas we had not thought of before.  To do this, we want our mind to relax and to be playful - to engage in **divergent** thinking (to explore, wander), rather than **convergent** thinking (to exploit, make efficient).\n",
        "\n",
        "You should expect good ideas to be made by combining half-ideas.  The half-ideas on their own may seem ridiculous.  In these exercises, we want to ask what is **good** about the ideas, and stay away from what is bad about them. \n",
        "\n",
        "## Motivation\n",
        "\n",
        "Within BIONIC, you will be required to collect together your thoughts on the previous series of videos and workshops to present a business/product idea or pitch.  This is also a professional task we have within research where we must propose new avenues of investigation and seek funding.  Do not be worried about \"ideas that already exist\" - it is almost guaranteed that existing ideas will influence the generation of new ideas, or you will take forward an existing idea with a new perspective.  So feel free to think back on and contribute all the topics covered so far.\n",
        "\n",
        "At the end of this worksheet, the final exercises will help you to structure how you might communicate your best ideas.  But first of all, the following exercises will help your group to find ideas to work with.\n",
        "\n",
        "## How will this work?\n",
        "\n",
        "For idea generation, talking, discussing, and playing are all recommended - we want to try to leave behind our **assumptions**, **rules**, and ideas of **self-censorship**.  Try to avoid telling yourself, \"no, that is a silly idea\".\n",
        "\n",
        "> Have you ever noticed how quickly children can invent new stories, characters and games when they play?\n",
        "\n",
        "See if you can encourage each other to allow all ideas to come out, be welcoming.  Please be respectful and polite, as we would ordinarily expect between adults. Feel free to tell each other stories, or to add your own association to what was previously said.   Remember, we want to help our minds to be divergent, to explore and go wide.  \n",
        "\n",
        "> It will be important that you do not voice judgement or criticism of another persons ideas - instead, try to always add new ideas, be positive, to form associations.\n",
        "\n",
        "In the final exercises of this labsheet, we will employ some convergent thinking, exercise some judgement, to select and refine the best ideas - but you should avoid this until the very end.  We will be using the early exercises (1-4) to generate the material to make a deck of cards to draw from - an example of a possible set of cards is shown below:\n",
        "\n",
        "<p align=\"center\">\n",
        "<img src=\"https://github.com/paulodowd/IdeaGeneratorWorkshop/blob/main/images/cards_example.png?raw=true\">\n",
        "</p>\n",
        "\n",
        "Exercises 1-4 should help us to relax and have fun, so that we are most creative for exercise 5 - where we will generate sets of card such as those above.  Interpreting these cards will become the key to finding an interesting pitch to take forward.  \n",
        "\n",
        "Helping you to construct a pitch is the final exercise (6) of this worksheet.\n",
        "\n",
        "\n",
        ">This worksheet has been developed from prior work generously shared by <a href=\"https://github.com/libbymiller\">Libby Miller</a>, Julia, and <a href=\"https://jarkman.co.uk/\">Richard Sewell</a>.  For further information, you may wish to investigate:\n",
        "- <a href=\"https://www.bbc.co.uk/rd/blog/2019-10-ideas-generation-slack-slackbot\">Libby Miller / BBC: Ideas Box... (online article)</a>\n",
        "- <a href=\"https://github.com/libbymiller/idea_generator\">Libby Miller, Idea Generator (github)</a>\n",
        "- <a href=\"https://github.com/libbymiller/inventotron-3000\">Libby Miller, Inventotron-3000 (github)</a>\n"
      ],
      "metadata": {
        "id": "r3sRSxPAtWI0"
      }
    },
    {
      "cell_type": "markdown",
      "source": [
        "<hr><br><br><br><br>"
      ],
      "metadata": {
        "id": "6Q8bBTr5rHTs"
      }
    },
    {
      "cell_type": "markdown",
      "source": [
        "## Exercise 1: **Who?** a better place for people. (**10 minutes**)\n",
        "\n",
        "Whilst we are technologists, it is important to remember that we are designing and building technology for people to use, or to make the world a better place for people.  In this exercise we will use the word **who** very broadly and generally.  Sometimes, a better world for people also means we might be targeting technology to benefit processes, wildlife, or the environment as \"who\".  Even from a hard business point of view - profits are made from a market demand, people.\n",
        "\n",
        "Work with your group to generate as many possible beneficiaries from the things we could design and make.  It might be useful for you to think about friends, relatives, or areas of society or the environment that interest you.  You could also think of \"stake holders\", such as artists, builders, bankers, etc.  At this stage, don't worry about what they are to receive or be involved in - aim for variety.\n",
        "\n",
        "1. Using the below `code cell` to record your ideas. Some examples have been provided for you.  Follow the convention of strings seperated by a comma, with the final comma in the list absent.\n",
        "2. When you have completed this exercise, make sure you press the small play icon to the left to compile your list."
      ],
      "metadata": {
        "id": "Z_C-H3LZ1mss"
      }
    },
    {
      "cell_type": "code",
      "source": [
        "who = [ \"goats\", \"children\", \"cats\", \"the elderly\", \"my lecturer\", \"fast food workers\", \"fields of wheat\", \"frog populations\"\n",
        "      ]"
      ],
      "metadata": {
        "id": "F0c6DpuO1-0D"
      },
      "execution_count": 2,
      "outputs": []
    },
    {
      "cell_type": "markdown",
      "source": [
        "<hr><br><br><br><br>"
      ],
      "metadata": {
        "id": "BSyAkEZ6rOMh"
      }
    },
    {
      "cell_type": "markdown",
      "source": [
        "## Exercise 2: **How?** what it does or the characteristic. (**10 minutes**)\n",
        "\n",
        "In this exercise, we want to think of as many actions and characteristics as we can.  We can think of this as answering the question:\n",
        "> _**How does it work?**..._ \n",
        "> - \"purrs like a cat\"\n",
        "> - \"warm to the touch\"\n",
        "> - \"bounces\"\n",
        "> - \"cleans\"\n",
        "> - \"solves differential equations\"\n",
        "> - \"recycles\"\n",
        "> - \"unpacks itself\""
      ],
      "metadata": {
        "id": "yP7asaj56gP1"
      }
    },
    {
      "cell_type": "code",
      "source": [
        "# how is it fundamentally working? (technology, concept, mechanism)\n",
        "# Seperate strings with comma, without a final comma in the list.\n",
        "which = [ \"purrs like a cat\", \"unpacks itself\", \"warm to the touch\", \"bounces\", \"cleans\", \"solves differential equations\", \"recycles\", \"holds steady\"\n",
        "      ]"
      ],
      "metadata": {
        "id": "uWvKXJFXj-1N"
      },
      "execution_count": 3,
      "outputs": []
    },
    {
      "cell_type": "markdown",
      "source": [
        "<hr><br><br><br><br>"
      ],
      "metadata": {
        "id": "AL3j9dBgrQNR"
      }
    },
    {
      "cell_type": "markdown",
      "source": [
        "## Exericse 3: **What?** how is it fundamentally working? (**10 minutes**)\n",
        "1. Using the below `code cell`, enter in as many different technologies that you can think of.  Make sure you follow the convention used in the examples to create comma-seperated strings.  Here, technologies can be:\n",
        "  - existing or fictional products\n",
        "  - complete or partial solutions\n",
        "  - small components or parts\n",
        "  - hardware or software\n",
        "  - materials or mechanisms\n",
        "  - future or current technology\n",
        "  - ways of interacting or using\n",
        "\n"
      ],
      "metadata": {
        "id": "VadieiOptvEJ"
      }
    },
    {
      "cell_type": "code",
      "source": [
        "# how is it fundamentally working? (technology, concept, mechanism)\n",
        "# Seperate strings with comma, without a final comma in the list.\n",
        "what = [ \"arduino\", \"raspberry pi\", \"vacuum\", \"hand cranked\", \"papercraft\", \"robot\", \"automaton\", \"propeller\", \"brushless motor\", \"biohacked\", \"face detection\"\n",
        "      ]"
      ],
      "metadata": {
        "id": "xtb94mHOye1f"
      },
      "execution_count": 4,
      "outputs": []
    },
    {
      "cell_type": "markdown",
      "source": [
        "<hr><br><br><br><br>"
      ],
      "metadata": {
        "id": "mzjfImqk2fDV"
      }
    },
    {
      "cell_type": "markdown",
      "source": [
        "## Exercise 4: **Why?** what does it help, achieve, enable, produce or affect? (**10 minutes**)\n",
        "\n",
        "For this exercise, you should think of results or consequences.  These can be very pragmatic or functional, answering the question what does it help, achieve, enable or produce?  It is also good to think of words or phrases that refect how one might come to feel, such as stress relief, energised, etc.\n",
        "\n",
        "1. Add words and phrases to the code cell below.  Attempt to generate words and phrases that are both grand (big in scale or effect) as well as small and ordinary:\n",
        "\n"
      ],
      "metadata": {
        "id": "y5FvrvH0y13x"
      }
    },
    {
      "cell_type": "code",
      "source": [
        "\n",
        "# Seperate strings with comma, without a final comma in the list.\n",
        "why = [ \"assist cooking\", \"stress relief\", \"food safety\", \"task reminder\", \"calming\", \"night vision\", \"companionship\"\n",
        "      ]"
      ],
      "metadata": {
        "id": "j9wRYG3Kj0EN"
      },
      "execution_count": 5,
      "outputs": []
    },
    {
      "cell_type": "markdown",
      "source": [
        "<hr><br><br><br><br>"
      ],
      "metadata": {
        "id": "aeaXHDDYrRBx"
      }
    },
    {
      "cell_type": "markdown",
      "source": [
        "## Exercise 5: The Card Generator! (**20 minutes**)\n",
        "\n",
        "1. Run the below `code cell` to generate a set of cards drawn from the words and phrases you have created.\n",
        "\n",
        "2. **Discuss** the combination of cards, attempting to take them seriously:\n",
        "  - What could this be?\n",
        "  - It can help to ask broader questions:\n",
        "    - **When** might this be useful?\n",
        "    - **Where** might this be useful?\n",
        "  - Try not to immediately dismiss an idea:\n",
        "    - Is there a way this could be made to work?\n",
        "    - You don't need to use all cards - is there something viable from 3 of the 4 cards?\n",
        "    - Is there something missing or extra to make this a viable idea?  What would that be?\n",
        "    - Is there a modification that would make it more sensible?\n",
        "  - Try to allow for time to discuss each combination and agree as a group when you are ready to try another selection of cards (by pressing the play icon again).\n",
        "\n",
        "3. To make things more interesting, exchange your set of words/phrases for _what_, _which_, _who_, _why_ with other groups.  More words, phrases and concepts will enrich the generator and take you away from your own assumptions and biases.  \n",
        "\n",
        "4. Shortly before the end of this exercise, **decide within your group which idea is your favourite** that you would like to take forwards.  Within this workshop, it would be fine to choose the idea that entertains you the most (it does not have to be serious).\n"
      ],
      "metadata": {
        "id": "gxYOW8UzxmJc"
      }
    },
    {
      "cell_type": "code",
      "source": [
        "\n",
        "import random\n",
        "from datetime import datetime\n",
        "import matplotlib.pyplot as plt\n",
        "import numpy as np\n",
        "\n",
        "# Random number with system time\n",
        "random.seed(datetime.now())\n",
        "\n",
        "# info on colours: https://matplotlib.org/stable/tutorials/colors/colors.html\n",
        "\n",
        "# settings for text font\n",
        "sub_txt_kwargs = dict(ha='center', va='center', fontsize=12, color='w')\n",
        "main_txt_kwargs = dict(ha='center', va='center', fontsize=22, color='w')\n",
        "\n",
        "fig = plt.figure()\n",
        "plt.figure(figsize=(12, 4))\n",
        "ax1 = plt.subplot2grid((1, 4), (0, 0), rowspan=1, colspan=1)\n",
        "ax1.xaxis.set_visible(False)\n",
        "ax1.yaxis.set_visible(False)\n",
        "ax1.set_facecolor('xkcd:salmon')\n",
        "r_what = random.choice( what )\n",
        "s = r_what.replace( ' ', '\\n')\n",
        "plt.text(0.5, 0.9, \"what?\", **sub_txt_kwargs)\n",
        "plt.text(0.5, 0.5, s, **main_txt_kwargs)\n",
        "\n",
        "ax2 = plt.subplot2grid((1, 4), (0, 1), rowspan=1, colspan=1)\n",
        "ax2.xaxis.set_visible(False)\n",
        "ax2.yaxis.set_visible(False)\n",
        "ax2.set_facecolor('xkcd:sky blue')\n",
        "r_which = random.choice( which )\n",
        "s = r_which.replace( ' ', '\\n')\n",
        "plt.text(0.5, 0.9, \"which?\", **sub_txt_kwargs)\n",
        "plt.text(0.5, 0.5, s, **main_txt_kwargs)\n",
        "\n",
        "ax3 = plt.subplot2grid((1, 4), (0, 2), rowspan=1, colspan=1)\n",
        "ax3.xaxis.set_visible(False)\n",
        "ax3.yaxis.set_visible(False)\n",
        "ax3.set_facecolor('xkcd:aquamarine')\n",
        "r_who = random.choice( who )\n",
        "s = r_who.replace( ' ', '\\n')\n",
        "plt.text(0.5, 0.9, \"who?\", **sub_txt_kwargs)\n",
        "plt.text(0.5, 0.5, s, **main_txt_kwargs)\n",
        "\n",
        "ax4 = plt.subplot2grid((1, 4), (0, 3), rowspan=1, colspan=1)\n",
        "ax4.xaxis.set_visible(False)\n",
        "ax4.yaxis.set_visible(False)\n",
        "ax4.set_facecolor('xkcd:lavender')\n",
        "r_why = random.choice( why )\n",
        "s = r_why.replace( ' ', '\\n')\n",
        "plt.text(0.5, 0.9, \"why?\", **sub_txt_kwargs)\n",
        "plt.text(0.5, 0.5, s, **main_txt_kwargs)\n",
        "\n",
        "\n",
        "\n",
        "plt.tight_layout()\n",
        "plt.show()\n",
        "\n",
        "final = \"Using: \" + r_what + \"\\nwhich: \" + r_which + \"\\nfor/with: \" + r_who + \"\\nbecause/so that: \" + r_why\n",
        "print(final)"
      ],
      "metadata": {
        "colab": {
          "base_uri": "https://localhost:8080/",
          "height": 384
        },
        "id": "DG6d9SG4vjQD",
        "outputId": "c3d46906-07a0-4f02-a251-f1edb186e762"
      },
      "execution_count": 6,
      "outputs": [
        {
          "output_type": "display_data",
          "data": {
            "text/plain": [
              "<Figure size 432x288 with 0 Axes>"
            ]
          },
          "metadata": {}
        },
        {
          "output_type": "display_data",
          "data": {
            "text/plain": [
              "<Figure size 864x288 with 4 Axes>"
            ],
            "image/png": "[encoded data removed]"
          },
          "metadata": {
            "needs_background": "light"
          }
        },
        {
          "output_type": "stream",
          "name": "stdout",
          "text": [
            "Using: arduino\n",
            "which: holds steady\n",
            "for/with: cats\n",
            "because/so that: night vision\n"
          ]
        }
      ]
    },
    {
      "cell_type": "markdown",
      "source": [
        "<hr><br><br><br><br>"
      ],
      "metadata": {
        "id": "8sKF73ojrSO5"
      }
    },
    {
      "cell_type": "markdown",
      "source": [
        "## Exercise 6: A Pitch (**20 minutes**)\n",
        "\n",
        "In this exercise we are going to use a similar framework of questions (who/what/where/when/why/how) to help you to structure and present your idea.  Ideally, we want to make an attractive proposal - an argument where the audience understands the **problem**, the **value** and your **solution**.  \n",
        "\n",
        "When we consider **value**, this has two aspects:\n",
        "- First, we want to identify a **valuable problem** to solve (meaningful, relatable)\n",
        "- Second, we want to provide a **valuable solution** (it is feasible, very beneficial, and/or profitable).\n",
        "\n",
        "We also want to quickly take the audience from a **general understanding** to your **specific solution** - and for both to be valued.  \n",
        "\n",
        "The following exercises will help you to structure your pitch with narrative (story), so that from problem to solution, we have a strong sense of perceived value. \n",
        "\n",
        "> An investor has just told you that your prototype looks interesting...\n",
        "\n",
        "We want to produce an **elevator pitch** - this means the ability to convincingly communicate the most important aspects in the time it would take to ride an elevator between floors.  This is typically considered to be **2 minutes!**\n",
        "\n",
        "1. **The Problem** (5 minutes): \n",
        "  - Do some quick research to identify some statistics about the **who** from your idea.  For example (for a cat owner):\n",
        "    - _\"long haired cats constitute 90% of all pet cats according to...\"_\n",
        "    - _\"40% of all households in the UK have a pet cat according to....\"_\n",
        "\n",
        "2. **The Problem-Value** (5 minutes):\n",
        "  - Write down a very brief and fictitous **user story** to capture the problem scenario.  This will help the audience to understand the human factor and context of your proposal, which is central to the perceived value.  It will help the audience to actually imagine where your idea will be valuable, and to become emotinally invested.  For example:\n",
        "    - _\"Jake is an owner of a long haired cat - which he loves dearly - but he also repairs antique wrist-watches.  Often when Jake sits down to work he is covered in cat hair which falls into his work.\"_\n",
        "\n",
        "3. **The Solution** (5 minutes):\n",
        "  - Do some quick research to identify some statistics or key factors about the **what** and **which** from your idea. For example:\n",
        "    - _\"electro-static technologies have become significantly cheaper and more robust since the invention of electronic switch-mode regulators\"_ (what)\n",
        "    - _\"early research indicates that cat hair can be pulled reliably from clothing by using vibration combined with electro-static\"_ (which)\n",
        "\n",
        "4. **The Solution-Value** (5 minutes):\n",
        "  - Finish your **user story** to illustrate what your idea is, how it will work, and what the unique benefits are.  Try to include something of the **why** of the original idea.  For example:\n",
        "    - _\"We will offer people like Jake an new type of clothes iron that vibrates and attracts cat hair away from fabric.  It will be cheap and affordable, and it will seamlessly integrate into his normal daily laundry habits.\"_\n",
        "    - Here we understand it will solve Jake's problem and that he is likely to adopt the solution (why).\n",
        "\n",
        "5. **Construct your pitch**: use the above four elements in a structure like the following.  A full example of a short pitch is below.  You may wish to re-arrange some parts, depending on how well the pitch connects together:\n",
        "  1. Introduce with a User Story (problem/problem-value)\n",
        "  2. Provide some key statitics to support your User Story.\n",
        "  3. Continue with the User Story (solution, solution-value).\n",
        "  4. Provide key statistics/factors about your solution.\n",
        "\n",
        "\n",
        "Together as an example:\n",
        "> An investor has just told you that your prototype looks interesting...\n",
        "\n",
        "> _\"**This is a cat hair remover.  For instance, my friend...** \n",
        "Jake is an owner of a long haired cat - which he loves dearly - but he also repairs antique wrist-watches.  Often when Jake sits down to work he is covered in cat hair which falls into his work.  **Jake isn't alone:** long haired cats constitute 90% of all pet cats according to... and 40% of all households in the UK have a pet cat according to... **so that could be up to 25 million people**.  We will offer people like Jake a new type of clothes iron that vibrates and attracts cat hair away from fabric.  It will be cheap and affordable, and it will seamlessly integrate into his normal daily laundry habits.  **We know this can work because** electro-static technologies have become significantly cheaper and more robust since the invention of electronic switch-mode regulators. Our early research indicates that cat hair can be pulled reliably from clothing by using vibration combined with electro-static - **which is our unique selling point.**\"_ "
      ],
      "metadata": {
        "id": "MBaN8Jfs4K3K"
      }
    }
  ]
}