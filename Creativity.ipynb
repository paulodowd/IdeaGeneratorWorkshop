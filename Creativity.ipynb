{
  "nbformat": 4,
  "nbformat_minor": 0,
  "metadata": {
    "colab": {
      "name": "Copy of Creativity.ipynb",
      "provenance": [],
      "collapsed_sections": [],
      "toc_visible": true,
      "authorship_tag": "ABX9TyNjGSC2MHpPsBvfEph28N/x",
      "include_colab_link": true
    },
    "kernelspec": {
      "display_name": "Python 3",
      "name": "python3"
    }
  },
  "cells": [
    {
      "cell_type": "markdown",
      "metadata": {
        "id": "view-in-github",
        "colab_type": "text"
      },
      "source": [
        "<a href=\"https://colab.research.google.com/github/paulodowd/IdeaGeneratorWorkshop/blob/main/Creativity.ipynb\" target=\"_parent\"><img src=\"https://colab.research.google.com/assets/colab-badge.svg\" alt=\"Open In Colab\"/></a>"
      ]
    },
    {
      "cell_type": "markdown",
      "source": [
        "# Creativity: Idea Generation Workshop\n",
        "\n",
        "\n",
        "<p align=\"center\">\n",
        "<img src=\"https://github.com/paulodowd/IdeaGeneratorWorkshop/blob/main/images/schedule.png?raw=true\">\n",
        "</p>\n",
        "\n",
        "\n",
        "\n",
        "\n",
        "In the final exercises of this labsheet, we will employ some convergent thinking, exercise some judgement, to select and refine the best ideas - but you should avoid this until the very end.  We will be using the early exercises 1-4 (**word associations**) to generate the material to make a deck of cards to draw from - an example of a possible set of cards is shown below:\n",
        "\n",
        "<p align=\"center\">\n",
        "<img src=\"https://github.com/paulodowd/IdeaGeneratorWorkshop/blob/main/images/cards_example.png?raw=true\">\n",
        "</p>\n",
        "\n",
        "Exercises 1-4 should help us to relax and have fun, so that we are most creative for exercise 5 (**idea generation**)- where we will generate sets of card such as those above.  Interpreting these cards will become the key to finding an interesting pitch to take forward.  \n",
        "\n",
        "Helping you to construct a **pitch script** is the final exercise 6 of this worksheet.\n",
        "\n",
        "<br><br>\n",
        "<hr>\n",
        "This worksheet has been developed from prior work generously shared by <a href=\"https://github.com/libbymiller\">Libby Miller</a>, Julia, and <a href=\"https://jarkman.co.uk/\">Richard Sewell</a>.  For further information, you may wish to investigate:\n",
        "- <a href=\"https://www.bbc.co.uk/rd/blog/2019-10-ideas-generation-slack-slackbot\">Libby Miller / BBC: Ideas Box... (online article)</a>\n",
        "- <a href=\"https://github.com/libbymiller/idea_generator\">Libby Miller, Idea Generator (github)</a>\n",
        "- <a href=\"https://github.com/libbymiller/inventotron-3000\">Libby Miller, Inventotron-3000 (github)</a>\n"
      ],
      "metadata": {
        "id": "r3sRSxPAtWI0"
      }
    },
    {
      "cell_type": "markdown",
      "source": [
        "<hr><br><br><br><br>"
      ],
      "metadata": {
        "id": "6Q8bBTr5rHTs"
      }
    },
    {
      "cell_type": "markdown",
      "source": [
        "#Spreadsheet Links, Word Association\n",
        "\n",
        "<a href=\"https://uob-my.sharepoint.com/:x:/g/personal/ke18164_bristol_ac_uk/EZ7AfTH_dLtHpJvzMon_k_MBytEl3r20-Bnuv-ScDfWlNg?e=qEB59H\">All in one!</a>\n",
        "\n",
        "\n",
        "**Split by Groups**\n",
        "\n",
        "\n",
        "<a href=\"https://uob-my.sharepoint.com/:x:/g/personal/ke18164_bristol_ac_uk/EVEXwuhS6mxLk3oqtmqJ5bEBvkjJK9rgS1MHf-Wc2buNbw?e=B3QTLJ\">Group 1</a>\n",
        "<a href=\"https://uob-my.sharepoint.com/:f:/g/personal/ke18164_bristol_ac_uk/EveCcGZk5AVEuKXuDNnSS-oB3VBBge09B06l334mwXal_Q?e=mwdpHk\">Group 2</a>\n",
        "<a href=\"https://uob-my.sharepoint.com/:x:/g/personal/ke18164_bristol_ac_uk/EcI5tQQEvg5NrhRTmtKeh3cBsNGkd1Z8-vKy5CjMgsQYtQ?e=7pXfBx\">Group 3</a>\n",
        "<a href=\"https://uob-my.sharepoint.com/:x:/g/personal/ke18164_bristol_ac_uk/EZj74ldKksRAtNDM-DtrgKcBaGdc7vXzrNfh91HxX-Vx_w?e=5UdNzh\">Group 4</a>\n",
        "<a href=\"https://uob-my.sharepoint.com/:x:/g/personal/ke18164_bristol_ac_uk/Edv4iBcGcfRHsK0aIkYP6VUBO26q3pidF7WY_QncbYZH8A?e=wfh1Kq\">Group 5</a>\n",
        "<a href=\"https://uob-my.sharepoint.com/:x:/g/personal/ke18164_bristol_ac_uk/ETCak3NQRHBMrTZr9GIK2GgBMj5V7yILxkKeeUndwB_8og?e=OHaBRV\">Group 6</a>\n",
        "<a href=\"https://uob-my.sharepoint.com/:x:/g/personal/ke18164_bristol_ac_uk/EXnix4VH2eZOiET6mQGv6GMB9eY0oktS1rn2XjxFQvRPhw?e=YJ8hPg\">Group 7</a>\n",
        "<a href=\"https://uob-my.sharepoint.com/:x:/g/personal/ke18164_bristol_ac_uk/EX8Jd1pnOMRPp-wFb6nHWEEBFMRgJJr4kX7rFGPSGVj9GQ?e=4MbQYP\">Group 8</a>\n",
        "<a href=\"https://uob-my.sharepoint.com/:x:/g/personal/ke18164_bristol_ac_uk/Eb1EqAhH4FxAr36UCgI0hVAB42qmB36zGFJEUZWpVbw9wQ?e=0uTPCU\">Group 9</a>\n",
        "<a href=\"https://uob-my.sharepoint.com/:x:/g/personal/ke18164_bristol_ac_uk/ETA5UJh_iVpLjHe27qDCjq8BO78y5BYUWRsgyqiQIKq05g?e=jHzC7I\">Group 10</a>\n",
        "<a href=\"https://uob-my.sharepoint.com/:x:/g/personal/ke18164_bristol_ac_uk/EZeWobwP0JtBlelJRMCox4oBoxLAC5C46u__HtzNlHfn2A?e=L2YG5s\">Group 11</a>\n",
        "<a href=\"https://uob-my.sharepoint.com/:x:/g/personal/ke18164_bristol_ac_uk/Ef2hx1oYailMmapkKA4ikaUB8OmCgUeGjrBnWfrawQKrww?e=d37RqV\">Group 12</a>\n",
        "<a href=\"https://uob-my.sharepoint.com/:x:/g/personal/ke18164_bristol_ac_uk/EcdNEuXG4qBAtQKEG8qBkFcBe4op-l5BnqMoAAcjTfo9hw?e=3SG9h6\">Group 13</a>\n",
        "<a href=\"https://uob-my.sharepoint.com/:x:/g/personal/ke18164_bristol_ac_uk/EV0Jus19oz9BqtRAyotuopIBepKfVqo6lOrHvjDwpQZbgA?e=QX55S5\">Group 14</a>\n",
        "<a href=\"https://uob-my.sharepoint.com/:x:/g/personal/ke18164_bristol_ac_uk/EYYhksayLpBPuzERRbSrfcsBgDUvpOu8plnmjAFHAR6ITw?e=Ul7KG9\">Group 15</a>\n",
        "\n",
        "\n"
      ],
      "metadata": {
        "id": "qC0dix8uvaVh"
      }
    },
    {
      "cell_type": "markdown",
      "source": [
        "## Exercise 1: **Who?** a better place for people. (**7 minutes**)\n",
        "\n",
        "**Beneficiary, User**\n",
        "\n",
        "Whilst we are technologists, it is important to remember that we are designing and building technology for people to use, or to make the world a better place for people.  In this exercise we will use the word **who** very broadly and generally.  Sometimes, a better world for people also means we might be targeting technology to benefit processes, wildlife, or the environment as \"who\".  Even from a hard business point of view - profits are made from a market demand, people.\n",
        "\n",
        "Work with your group to generate as many possible beneficiaries from the things we could design and make.  It might be useful for you to think about friends, relatives, or areas of society or the environment that interest you.  You could also think of \"stake holders\", such as artists, builders, bankers, etc.  At this stage, don't worry about what they are to receive or be involved in - aim for variety.\n",
        "\n",
        "1. Using the below `code cell` to record your ideas. Some examples have been provided for you.  Follow the convention of strings seperated by a comma, with the final comma in the list absent.\n",
        "2. When you have completed this exercise, make sure you press the small play icon to the left to compile your list."
      ],
      "metadata": {
        "id": "Z_C-H3LZ1mss"
      }
    },
    {
      "cell_type": "code",
      "source": [
        "who = [ 'jet pilot','doctor','koalas','robots','surfers', 'rain forests'\n",
        "      ]"
      ],
      "metadata": {
        "id": "F0c6DpuO1-0D"
      },
      "execution_count": 1,
      "outputs": []
    },
    {
      "cell_type": "markdown",
      "source": [
        "<hr><br><br><br><br>"
      ],
      "metadata": {
        "id": "BSyAkEZ6rOMh"
      }
    },
    {
      "cell_type": "markdown",
      "source": [
        "## Exercise 2: **Which/How?** what it does or the characteristic. (**7 minutes**)\n",
        "\n",
        "**Characteristic**\n",
        "\n",
        "In this exercise, we want to think of as many actions and characteristics as we can.  We can think of this as answering the question:\n",
        "> _**How does it work?**..._ \n",
        "> - \"purrs like a cat\"\n",
        "> - \"warm to the touch\"\n",
        "> - \"bounces\"\n",
        "> - \"cleans\"\n",
        "> - \"solves differential equations\"\n",
        "> - \"recycles\"\n",
        "> - \"unpacks itself\""
      ],
      "metadata": {
        "id": "yP7asaj56gP1"
      }
    },
    {
      "cell_type": "code",
      "source": [
        "# how is it fundamentally working? (technology, concept, mechanism)\n",
        "# Seperate strings with comma, without a final comma in the list.\n",
        "which = [ 'vibrates','jumps','puffs up','bounces'\n",
        "]"
      ],
      "metadata": {
        "id": "uWvKXJFXj-1N"
      },
      "execution_count": 2,
      "outputs": []
    },
    {
      "cell_type": "markdown",
      "source": [
        "<hr><br><br><br><br>"
      ],
      "metadata": {
        "id": "AL3j9dBgrQNR"
      }
    },
    {
      "cell_type": "markdown",
      "source": [
        "## Exericse 3: **What?** how is it fundamentally working? (**7 minutes**)\n",
        "\n",
        "**Technology / Mechanism**\n",
        "\n",
        "1. Using the below `code cell`, enter in as many different technologies that you can think of.  Make sure you follow the convention used in the examples to create comma-seperated strings.  Here, technologies can be:\n",
        "  - existing or fictional products\n",
        "  - complete or partial solutions\n",
        "  - small components or parts\n",
        "  - hardware or software\n",
        "  - materials or mechanisms\n",
        "  - future or current technology\n",
        "  - ways of interacting or using\n",
        "\n"
      ],
      "metadata": {
        "id": "VadieiOptvEJ"
      }
    },
    {
      "cell_type": "code",
      "source": [
        "# how is it fundamentally working? (technology, concept, mechanism)\n",
        "# Seperate strings with comma, without a final comma in the list.\n",
        "what = ['drone','camera','voice recognition','helmet','arduino']"
      ],
      "metadata": {
        "id": "xtb94mHOye1f"
      },
      "execution_count": 2,
      "outputs": []
    },
    {
      "cell_type": "markdown",
      "source": [
        "<hr><br><br><br><br>"
      ],
      "metadata": {
        "id": "mzjfImqk2fDV"
      }
    },
    {
      "cell_type": "markdown",
      "source": [
        "## Exercise 4: **Why?** what does it help, achieve, enable, produce or affect? (**7 minutes**)\n",
        "\n",
        "**Application / Effect**\n",
        "\n",
        "For this exercise, you should think of results or consequences.  These can be very pragmatic or functional, answering the question what does it help, achieve, enable or produce?  It is also good to think of words or phrases that refect how one might come to feel, such as stress relief, energised, etc.\n",
        "\n",
        "1. Add words and phrases to the code cell below.  Attempt to generate words and phrases that are both grand (big in scale or effect) as well as small and ordinary:\n",
        "\n"
      ],
      "metadata": {
        "id": "y5FvrvH0y13x"
      }
    },
    {
      "cell_type": "code",
      "source": [
        "\n",
        "# Seperate strings with comma, without a final comma in the list.\n",
        "why = [ 'ensure safety of patients','detects issues','time management','explore pluto'\n",
        "]"
      ],
      "metadata": {
        "id": "j9wRYG3Kj0EN"
      },
      "execution_count": 3,
      "outputs": []
    },
    {
      "cell_type": "markdown",
      "source": [
        "<hr><br><br><br><br>"
      ],
      "metadata": {
        "id": "aeaXHDDYrRBx"
      }
    },
    {
      "cell_type": "markdown",
      "source": [
        "## Exercise 5: The Card Generator! (**25 minutes**)\n",
        "\n",
        "1. Run the below `code cell` to generate a set of cards drawn from the words and phrases you have created.\n",
        "\n",
        "2. Nominate a person in your group to record the good ideas! It is easy to forget.\n",
        "\n",
        "3. **Discuss** the combination of cards, attempting to take them seriously:\n",
        "  - What product or business could this be?\n",
        "  - When might this be useful?\n",
        "  - Where** might this be useful?\n",
        "  - Is there a way this could be made to work?\n",
        "  - Is there something viable from 3 of the 4 cards?\n",
        "  - Is there something missing or extra to make this a viable idea?\n",
        "\n",
        "\n",
        "4. Shortly before the end of this exercise, **decide within your group which idea is your favourite** that you would like to take forwards.  Within this workshop, it would be fine to choose the idea that entertains you the most (it does not have to be serious).\n"
      ],
      "metadata": {
        "id": "gxYOW8UzxmJc"
      }
    },
    {
      "cell_type": "code",
      "source": [
        "\n",
        "import random\n",
        "from datetime import datetime\n",
        "import matplotlib.pyplot as plt\n",
        "import numpy as np\n",
        "\n",
        "# Random number with system time\n",
        "random.seed(datetime.now())\n",
        "\n",
        "# info on colours: https://matplotlib.org/stable/tutorials/colors/colors.html\n",
        "\n",
        "# settings for text font\n",
        "sub_txt_kwargs = dict(ha='center', va='center', fontsize=12, color='w')\n",
        "main_txt_kwargs = dict(ha='center', va='center', fontsize=22, color='w')\n",
        "\n",
        "fig = plt.figure()\n",
        "plt.figure(figsize=(12, 4))\n",
        "ax1 = plt.subplot2grid((1, 4), (0, 2), rowspan=1, colspan=1)\n",
        "ax1.xaxis.set_visible(False)\n",
        "ax1.yaxis.set_visible(False)\n",
        "ax1.set_facecolor('xkcd:salmon')\n",
        "r_what = random.choice( what )\n",
        "s = r_what.replace( ' ', '\\n')\n",
        "plt.text(0.5, 0.9, \"what?\", **sub_txt_kwargs)\n",
        "plt.text(0.5, 0.5, s, **main_txt_kwargs)\n",
        "\n",
        "ax2 = plt.subplot2grid((1, 4), (0, 1), rowspan=1, colspan=1)\n",
        "ax2.xaxis.set_visible(False)\n",
        "ax2.yaxis.set_visible(False)\n",
        "ax2.set_facecolor('xkcd:sky blue')\n",
        "r_which = random.choice( which )\n",
        "s = r_which.replace( ' ', '\\n')\n",
        "plt.text(0.5, 0.9, \"which?\", **sub_txt_kwargs)\n",
        "plt.text(0.5, 0.5, s, **main_txt_kwargs)\n",
        "\n",
        "ax3 = plt.subplot2grid((1, 4), (0, 0), rowspan=1, colspan=1)\n",
        "ax3.xaxis.set_visible(False)\n",
        "ax3.yaxis.set_visible(False)\n",
        "ax3.set_facecolor('xkcd:aquamarine')\n",
        "r_who = random.choice( who )\n",
        "s = r_who.replace( ' ', '\\n')\n",
        "plt.text(0.5, 0.9, \"who?\", **sub_txt_kwargs)\n",
        "plt.text(0.5, 0.5, s, **main_txt_kwargs)\n",
        "\n",
        "ax4 = plt.subplot2grid((1, 4), (0, 3), rowspan=1, colspan=1)\n",
        "ax4.xaxis.set_visible(False)\n",
        "ax4.yaxis.set_visible(False)\n",
        "ax4.set_facecolor('xkcd:lavender')\n",
        "r_why = random.choice( why )\n",
        "s = r_why.replace( ' ', '\\n')\n",
        "plt.text(0.5, 0.9, \"why?\", **sub_txt_kwargs)\n",
        "plt.text(0.5, 0.5, s, **main_txt_kwargs)\n",
        "\n",
        "\n",
        "\n",
        "plt.tight_layout()\n",
        "plt.show()\n",
        "\n",
        "final = \"Using: \" + r_what + \"\\nwhich: \" + r_which + \"\\nfor/with: \" + r_who + \"\\nbecause/so that: \" + r_why\n",
        "print(final)"
      ],
      "metadata": {
        "colab": {
          "base_uri": "https://localhost:8080/",
          "height": 384
        },
        "id": "DG6d9SG4vjQD",
        "outputId": "0c4be16e-411c-44f8-e495-ba61b490004a"
      },
      "execution_count": 10,
      "outputs": [
        {
          "output_type": "display_data",
          "data": {
            "text/plain": [
              "<Figure size 432x288 with 0 Axes>"
            ]
          },
          "metadata": {}
        },
        {
          "output_type": "display_data",
          "data": {
            "text/plain": [
              "<Figure size 864x288 with 4 Axes>"
            ],
            "image/png": "[encoded data removed]"
          },
          "metadata": {
            "needs_background": "light"
          }
        },
        {
          "output_type": "stream",
          "name": "stdout",
          "text": [
            "Using: Neural Networks\n",
            "which: generates poetry\n",
            "for/with: Phones\n",
            "because/so that: rides carefully\n"
          ]
        }
      ]
    },
    {
      "cell_type": "markdown",
      "source": [
        "<hr><br><br><br><br>"
      ],
      "metadata": {
        "id": "8sKF73ojrSO5"
      }
    },
    {
      "cell_type": "markdown",
      "source": [
        "## Exercise 6: A Pitch Script (**25 minutes**)\n",
        "\n",
        "> An investor has just told you that your prototype looks interesting...\n",
        "\n",
        "> _\"**This is a cat hair remover.  For instance, my friend...** \n",
        "Jake is an owner of a long haired cat - which he loves dearly - but he also repairs antique wrist-watches.  Often when Jake sits down to work he is covered in cat hair which falls into his work.  **Jake isn't alone:** long haired cats constitute 90% of all pet cats according to... and 40% of all households in the UK have a pet cat according to... **so that could be up to 25 million people**.  We will offer people like Jake a new type of clothes iron that vibrates and attracts cat hair away from fabric.  It will be cheap and affordable, and it will seamlessly integrate into his normal daily laundry habits.  **We know this can work because** electro-static technologies have become significantly cheaper and more robust since the invention of electronic switch-mode regulators. Our early research indicates that cat hair can be pulled reliably from clothing by using vibration combined with electro-static - **which is our unique selling point.**\"_\n",
        "\n",
        "\n",
        "We want to quickly take an audience from a **general understanding** to your **specific solution** - and for both to be valued.  \n",
        "\n",
        "We want to produce an **elevator pitch** - this means the ability to communicate the most important aspects in the time it would take to ride an elevator between floors.  This is typically considered to be **2 minutes!**\n"
      ],
      "metadata": {
        "id": "MBaN8Jfs4K3K"
      }
    },
    {
      "cell_type": "markdown",
      "source": [
        "## Shared Powerpoint, Pitch Scripts\n",
        "\n",
        "<a href=\"https://uob-my.sharepoint.com/:p:/g/personal/ke18164_bristol_ac_uk/EfnddPv8Ot9JqERs_2msuOIBqBEYo6J38qvv4ZlaXI7w7Q?e=2dM6ph\">Develop Your Pitch Script Here</a>"
      ],
      "metadata": {
        "id": "ghCPJaT1x7i5"
      }
    },
    {
      "cell_type": "markdown",
      "source": [
        "\n",
        "### Exercise 6.1: Context, User-Story\n",
        "\n",
        "1. Write down a very brief and fictitous user story to capture the **problem scenario**.  This will help the audience to understand the human factor and context of your proposal, which is central to the perceived value.  It will help the audience to actually imagine where your idea will be valuable, and to become emotinally invested.  For example:\n",
        "    - _\"Jake is an owner of a long haired cat - which he loves dearly - but he also repairs antique wrist-watches.  Often when Jake sits down to work he is covered in cat hair which falls into his work.\"_\n",
        "\n",
        "\n",
        "2. Finish your user story to illustrate what your idea is, how it will work, and what the unique benefits are.  Try to include something of the **why** of the original idea.  We want the audience to understand the human-value of the solution.  For example:\n",
        "    - _\"We will offer people like Jake an new type of clothes iron that vibrates and attracts cat hair away from fabric.  It will be cheap and affordable, and it will seamlessly integrate into his normal daily laundry habits.\"_\n",
        "    \n",
        "\n"
      ],
      "metadata": {
        "id": "NiXdkQZYuJek"
      }
    },
    {
      "cell_type": "markdown",
      "source": [
        "\n",
        "### Exercise 6.2: Research: Statistics on Problem, Novelty/Feasibility of Proposal (10 minutes)\n",
        "\n",
        "1. **The Problem**: \n",
        "  - Do some quick research to identify some statistics about the **who** from your idea.  For example (for a cat owner):\n",
        "    - _\"long haired cats constitute 90% of all pet cats according to...\"_\n",
        "    - _\"40% of all households in the UK have a pet cat according to....\"_\n",
        "\n",
        "3. **The Solution** (The novelty of your tech proposal)\n",
        "  - Do some quick research to identify some statistics or key factors about the **what** and **which** from your idea. For example:\n",
        "    - _\"electro-static technologies have become significantly cheaper and more robust since the invention of electronic switch-mode regulators\"_ (what)\n",
        "    - _\"early research indicates that cat hair can be pulled reliably from clothing by using vibration combined with electro-static\"_ (which)\n",
        "\n"
      ],
      "metadata": {
        "id": "POK6GJ4BuLtT"
      }
    },
    {
      "cell_type": "markdown",
      "source": [
        "\n",
        "### Exercise 6.3: Script your Pitch\n",
        "\n",
        "5. **Construct your pitch**: use the above four elements in a structure like the following.  A full example of a short pitch is below.  You may wish to re-arrange some parts, depending on how well the pitch connects together:\n",
        "  1. Introduce with a User Story of the problem, illustrating the significance of problem in human terms.\n",
        "  2. Provide some key statitics to support your User Story.\n",
        "  3. Continue with the User Story, to offer your solution and the human-value of the solution.\n",
        "  4. Provide key statistics/factors about your solution.\n",
        "\n",
        "\n",
        " "
      ],
      "metadata": {
        "id": "NiFH6iTXuNUb"
      }
    }
  ]
}